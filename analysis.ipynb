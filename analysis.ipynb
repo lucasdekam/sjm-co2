{
 "cells": [
  {
   "cell_type": "code",
   "execution_count": null,
   "metadata": {},
   "outputs": [],
   "source": [
    "import matplotlib.pyplot as plt \n",
    "import numpy as np \n",
    "\n",
    "%matplotlib widget\n",
    "\n",
    "slab_co2 = np.loadtxt('slab_co2/slab_co2_energies.txt')\n",
    "slab = np.loadtxt('slab/slab_energies.txt')\n",
    "co2_g = -23.223468\n",
    "potential = slab_co2[:,0]\n",
    "\n",
    "fig = plt.figure()\n",
    "ax = fig.add_subplot()\n",
    "ax.plot(potential, slab_co2[:,1] - slab[:,1] - co2_g, marker='o', color='blue', fillstyle='none')\n",
    "ax.set_ylabel(r\"$\\Delta E_\\mathrm{elec}$ / eV\")\n",
    "ax.set_xlabel(r\"$-\\tilde \\mu_\\mathrm{e}$ / eV\")\n",
    "fig.savefig('electronic_be.png')\n",
    "plt.show()"
   ]
  },
  {
   "cell_type": "code",
   "execution_count": null,
   "metadata": {},
   "outputs": [],
   "source": [
    "from ase.visualize import view \n",
    "from ase.io import read \n",
    "view(read('optimized_surface.traj', ':'))"
   ]
  },
  {
   "cell_type": "code",
   "execution_count": null,
   "metadata": {},
   "outputs": [],
   "source": []
  }
 ],
 "metadata": {
  "kernelspec": {
   "display_name": "mace",
   "language": "python",
   "name": "python3"
  },
  "language_info": {
   "codemirror_mode": {
    "name": "ipython",
    "version": 3
   },
   "file_extension": ".py",
   "mimetype": "text/x-python",
   "name": "python",
   "nbconvert_exporter": "python",
   "pygments_lexer": "ipython3",
   "version": "3.12.5"
  }
 },
 "nbformat": 4,
 "nbformat_minor": 2
}
